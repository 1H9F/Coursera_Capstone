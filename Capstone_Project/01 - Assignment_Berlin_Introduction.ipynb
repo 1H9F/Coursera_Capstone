{
 "cells": [
  {
   "cell_type": "markdown",
   "metadata": {},
   "source": [
    "# Introduction\n",
    "## *Berlin - a city to live... but where?*\n",
    "<img src=\"Brandenburger_Tor_Berlin_at_night.jpg\" width=400 />\n",
    "Berlin is not only the capital city of Germany it is also a city with an interesting history. After the splitting into 4 sectors by the end of the Second World War, the Berlin Wall (construction began on 13 August 1961) was later built as a symbol of the great differences between the East and West powers and of the Cold War. With the fall of the Berlin Wall (November 9, 1989) the reunion of East and West was initiated. And after the German reunification of the GDR and the Federal Republic of Germany (on October 3, 1990), Berlin was simultaneously named the capital city of the Federal Republic of Germany. Today Berlin is a city with many different aspects in art, culture, politics, technology and science. With about 3.7 million inhabitants and an area of about 892 square kilometres, it is the largest city in Germany. With many inhabitants, however, aspects such as crime and its influence on normal city life are becoming increasingly important. The question that arises is therefore: \"*Is it possible to discover safe and yet attractive and lively areas of the city based on data like district areas position, population, crime and venues?*\".\n",
    "\n"
   ]
  },
  {
   "cell_type": "code",
   "execution_count": null,
   "metadata": {},
   "outputs": [],
   "source": []
  }
 ],
 "metadata": {
  "kernelspec": {
   "display_name": "Python 3",
   "language": "python",
   "name": "python3"
  },
  "language_info": {
   "codemirror_mode": {
    "name": "ipython",
    "version": 3
   },
   "file_extension": ".py",
   "mimetype": "text/x-python",
   "name": "python",
   "nbconvert_exporter": "python",
   "pygments_lexer": "ipython3",
   "version": "3.8.2"
  }
 },
 "nbformat": 4,
 "nbformat_minor": 4
}
