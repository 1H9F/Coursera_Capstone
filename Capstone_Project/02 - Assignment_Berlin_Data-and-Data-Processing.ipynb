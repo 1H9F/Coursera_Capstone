{
 "cells": [
  {
   "cell_type": "markdown",
   "metadata": {},
   "source": [
    "# Data and Data Processing\n",
    "Nowadays, information defines our everyday life. But can they also help us to make decisions that are related to everyday situations? What about moving to a foreign city, for example. Where should you settle down? What are the localities? How do I get around? And above all, am I safe? All these factors can have a strong influence on our decision where to settle down. In the following sections I have tried, taking Berlin as an example, to work out a possibility based on data that should make it easier to decide for a certain district. The data for the analysis presented here originates from various data sources.\n",
    "* <a href=\"https://lab.technologiestiftung-berlin.de/en/\">Technologiestiftung Berlin 2020</a>\n",
    "* <a href=\"https://www.statistik-berlin-brandenburg.de/\">Amt für Statistik Berlin-Brandenburg</a>\n",
    "* <a href=\"https://www.kriminalitaetsatlas.berlin.de/\">Kriminalitätsatlas Berlin</a>\n",
    "* <a href=\"https://foursquare.com/\">Foursquare</a>\n",
    "\n",
    "In the first part of the Data Processing Part first all the necessary datasets are loaded and afterwards cleaned. These datasets mainly consist of crime, population and geographical data. In the data Analysis section all the needed data is then analysed and investigated. The regions of Berlin were then further investigated by obtaining interesting venues via the Foursquare API and further clustering of the data."
   ]
  },
  {
   "cell_type": "code",
   "execution_count": null,
   "metadata": {},
   "outputs": [],
   "source": []
  }
 ],
 "metadata": {
  "kernelspec": {
   "display_name": "Python 3",
   "language": "python",
   "name": "python3"
  },
  "language_info": {
   "codemirror_mode": {
    "name": "ipython",
    "version": 3
   },
   "file_extension": ".py",
   "mimetype": "text/x-python",
   "name": "python",
   "nbconvert_exporter": "python",
   "pygments_lexer": "ipython3",
   "version": "3.8.2"
  }
 },
 "nbformat": 4,
 "nbformat_minor": 4
}
